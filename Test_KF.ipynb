{
 "cells": [
  {
   "cell_type": "markdown",
   "metadata": {},
   "source": [
    "## Intro\n",
    "\n",
    "https://www.pythonforfinance.net/2018/07/04/mean-reversion-pairs-trading-with-inclusion-of-a-kalman-filter/\n",
    "\n",
    "https://www.quantstart.com/articles/kalman-filter-based-pairs-trading-strategy-in-qstrader/"
   ]
  },
  {
   "cell_type": "code",
   "execution_count": 1,
   "metadata": {},
   "outputs": [],
   "source": [
    "##### import the necessary modules and set chart style####\n",
    "import numpy as np\n",
    "import pandas as pd\n",
    "import seaborn as sns\n",
    "import matplotlib as mpl\n",
    "mpl.style.use('bmh')\n",
    "import pandas_datareader.data as web\n",
    "import matplotlib.pylab as plt\n",
    "from datetime import datetime\n",
    "import statsmodels.api as sm\n",
    "from pykalman import KalmanFilter\n",
    "from math import sqrt"
   ]
  },
  {
   "cell_type": "code",
   "execution_count": 2,
   "metadata": {},
   "outputs": [
    {
     "ename": "IndexError",
     "evalue": "list index out of range",
     "output_type": "error",
     "traceback": [
      "\u001b[0;31m---------------------------------------------------------------------------\u001b[0m",
      "\u001b[0;31mIndexError\u001b[0m                                Traceback (most recent call last)",
      "\u001b[0;32m<ipython-input-2-7095bacc312c>\u001b[0m in \u001b[0;36m<module>\u001b[0;34m\u001b[0m\n\u001b[1;32m      1\u001b[0m \u001b[0;31m#scrape html from website and store 3rd DataFrame as our stock tickers - this is dictated to us by the structure of the html\u001b[0m\u001b[0;34m\u001b[0m\u001b[0;34m\u001b[0m\u001b[0;34m\u001b[0m\u001b[0m\n\u001b[0;32m----> 2\u001b[0;31m \u001b[0mstock_list\u001b[0m \u001b[0;34m=\u001b[0m \u001b[0mpd\u001b[0m\u001b[0;34m.\u001b[0m\u001b[0mread_html\u001b[0m\u001b[0;34m(\u001b[0m\u001b[0;34m\"https://www.marketwatch.com/tools/industry/stocklist.asp?bcind_ind=9535&bcind_period=3mo\"\u001b[0m\u001b[0;34m)\u001b[0m\u001b[0;34m[\u001b[0m\u001b[0;36m3\u001b[0m\u001b[0;34m]\u001b[0m\u001b[0;34m\u001b[0m\u001b[0;34m\u001b[0m\u001b[0m\n\u001b[0m\u001b[1;32m      3\u001b[0m \u001b[0;34m\u001b[0m\u001b[0m\n\u001b[1;32m      4\u001b[0m \u001b[0;31m#convert the DataFrame of stocks into a list so we can easily iterate over it\u001b[0m\u001b[0;34m\u001b[0m\u001b[0;34m\u001b[0m\u001b[0;34m\u001b[0m\u001b[0m\n\u001b[1;32m      5\u001b[0m \u001b[0mstocks\u001b[0m \u001b[0;34m=\u001b[0m \u001b[0mstock_list\u001b[0m\u001b[0;34m[\u001b[0m\u001b[0;36m1\u001b[0m\u001b[0;34m]\u001b[0m\u001b[0;34m.\u001b[0m\u001b[0mdropna\u001b[0m\u001b[0;34m(\u001b[0m\u001b[0;34m)\u001b[0m\u001b[0;34m[\u001b[0m\u001b[0;36m1\u001b[0m\u001b[0;34m:\u001b[0m\u001b[0;34m]\u001b[0m\u001b[0;34m.\u001b[0m\u001b[0mtolist\u001b[0m\u001b[0;34m(\u001b[0m\u001b[0;34m)\u001b[0m\u001b[0;34m\u001b[0m\u001b[0;34m\u001b[0m\u001b[0m\n",
      "\u001b[0;31mIndexError\u001b[0m: list index out of range"
     ]
    }
   ],
   "source": [
    "#scrape html from website and store 3rd DataFrame as our stock tickers - this is dictated to us by the structure of the html\n",
    "stock_list = pd.read_html(\"https://www.marketwatch.com/tools/industry/stocklist.asp?bcind_ind=9535&bcind_period=3mo\")[3]\n",
    "\n",
    "#convert the DataFrame of stocks into a list so we can easily iterate over it\n",
    "stocks = stock_list[1].dropna()[1:].tolist()\n",
    "\n",
    "#set empty list o hold the stock price DataFrames that we can later concatenate into a master frame\n",
    "df_list = []\n",
    "\n",
    "#not all stocks will return data so set up an empty list to store the stock tickers that actually successfully returns data\n",
    "used_stocks = []\n",
    "\n",
    "#iterate over stock tickers in list and download relevant data, storing said data and successfully downloaded tickers along the way\n",
    "for stock in stocks:\n",
    "    try:\n",
    "        data = pd.DataFrame(web.DataReader(stock,data_source='iex',start='01/01/2013')['close'])\n",
    "        data.columns = [stock]\n",
    "        df_list.append(data)\n",
    "        used_stocks.append(stock)\n",
    "    except:\n",
    "        pass\n",
    "\n",
    "#concatenate list of individual tciker price DataFrames into one master DataFrame\n",
    "df = pd.concat(df_list,axis=1)"
   ]
  },
  {
   "cell_type": "code",
   "execution_count": 17,
   "metadata": {},
   "outputs": [
    {
     "data": {
      "text/plain": [
       "0                         WSJ US Luxury Goods Index\n",
       "1                          WSJ US Automobiles Index\n",
       "2                           WSJ US Automotive Index\n",
       "3                       WSJ US Motor Vehicles Index\n",
       "4                                WSJ US Tires Index\n",
       "5                             WSJ US Printing Index\n",
       "6                            WSJ US Gemstones Index\n",
       "7                  WSJ US Hotel/Lodging REITs Index\n",
       "8                       WSJ US Banking/Credit Index\n",
       "9    WSJ US Residential Building Construction Index\n",
       "Name: Industry Name, dtype: object"
      ]
     },
     "execution_count": 17,
     "metadata": {},
     "output_type": "execute_result"
    }
   ],
   "source": [
    "pd.read_html(\"https://www.marketwatch.com/tools/industry/stocklist.asp?bcind_ind=9535&bcind_period=3mo\")[0]['Industry Name']"
   ]
  },
  {
   "cell_type": "code",
   "execution_count": null,
   "metadata": {},
   "outputs": [],
   "source": []
  }
 ],
 "metadata": {
  "kernelspec": {
   "display_name": "Python 3",
   "language": "python",
   "name": "python3"
  },
  "language_info": {
   "codemirror_mode": {
    "name": "ipython",
    "version": 3
   },
   "file_extension": ".py",
   "mimetype": "text/x-python",
   "name": "python",
   "nbconvert_exporter": "python",
   "pygments_lexer": "ipython3",
   "version": "3.7.4"
  }
 },
 "nbformat": 4,
 "nbformat_minor": 2
}
