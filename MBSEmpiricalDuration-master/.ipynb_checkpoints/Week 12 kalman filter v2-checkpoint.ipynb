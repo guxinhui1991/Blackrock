{
 "cells": [
  {
   "cell_type": "code",
   "execution_count": null,
   "metadata": {},
   "outputs": [
    {
     "name": "stderr",
     "output_type": "stream",
     "text": [
      "/anaconda3/lib/python3.6/site-packages/statsmodels/compat/pandas.py:56: FutureWarning: The pandas.core.datetools module is deprecated and will be removed in a future version. Please use the pandas.tseries module instead.\n",
      "  from pandas.core import datetools\n",
      "/anaconda3/lib/python3.6/site-packages/h5py/__init__.py:34: FutureWarning: Conversion of the second argument of issubdtype from `float` to `np.floating` is deprecated. In future, it will be treated as `np.float64 == np.dtype(float).type`.\n",
      "  from ._conv import register_converters as _register_converters\n"
     ]
    }
   ],
   "source": [
    "from pykalman import KalmanFilter\n",
    "import numpy as np\n",
    "import pandas as pd\n",
    "import matplotlib.pyplot as plt\n",
    "from scipy import poly1d\n",
    "\n",
    "from brmbs.simulation.DataGenerator import generateSimulatedBDTPrice, callableBond, TestFunctionGenerator\n",
    "from brmbs.model.OrthogonalRegression import *\n",
    "import brmbs.data.DataLoader as dl\n",
    "from brmbs.preprocessing.IssuanceProcessor import RegressionPeriod, get_coupon_periods\n",
    "from brmbs.simulation.PolynomialSimulation import simulate_poly_fit\n",
    "\n",
    "from pykalman import KalmanFilter\n",
    "import pymc3 as pm\n",
    "from pymc3.distributions.timeseries import AR1\n",
    "from pymc3.distributions.timeseries import GaussianRandomWalk\n",
    "\n",
    "%matplotlib inline"
   ]
  },
  {
   "cell_type": "code",
   "execution_count": null,
   "metadata": {},
   "outputs": [],
   "source": [
    "df, TBAs, params, all_coupons, rate_Base_raw, FN_issue, rate_Base = dl.load_all_data(data_folder = 'data/')\n",
    "collapse_without_order, collapse_with_order = get_coupon_periods(df, all_coupons, FN_issue)\n",
    "\n",
    "data = TBAs[4.5]['2010-01-01':]\n",
    "prices = data.price.values\n",
    "rates = data.MTGFNCL.values / 100\n",
    "\n",
    "ret = (prices[1:] - prices[:-1]) / prices[:-1]\n",
    "delta_r = rates[1:] - rates[:-1]\n",
    "\n",
    "dates = data.index[1:]"
   ]
  },
  {
   "cell_type": "code",
   "execution_count": null,
   "metadata": {},
   "outputs": [],
   "source": [
    "window = 5\n",
    "D = []\n",
    "for t in range(len(delta_r) - window):\n",
    "    y = ret[t : t+window]\n",
    "    x = delta_r[t : t+window]\n",
    "    model = sm.OLS(y, x)\n",
    "    result = model.fit()\n",
    "    D.append(- result.params[0])"
   ]
  },
  {
   "cell_type": "code",
   "execution_count": null,
   "metadata": {},
   "outputs": [],
   "source": [
    "Total_T = 1000\n",
    "\n",
    "dr = 1e-2\n",
    "trans_cov_r = dr / (1 - dr) * np.eye(2) # How much random walk wiggles\n",
    "obs_mat_r = np.expand_dims(np.vstack([[D[:Total_T]], [np.ones(Total_T)]]).T, axis=1)\n",
    "\n",
    "\n",
    "kf_r = KalmanFilter(n_dim_obs=1, n_dim_state=2, # y_r is 1-dimensional, (alpha, beta) is 2-dimensional\n",
    "                  initial_state_mean=[5,0],\n",
    "                  initial_state_covariance=np.array([[1, 0], [0, 1]]),\n",
    "                    \n",
    "                  transition_matrices=np.eye(2),\n",
    "                  observation_matrices=obs_mat_r,\n",
    "                  \n",
    "                  observation_covariance=0.3,\n",
    "                  transition_covariance=trans_cov_r)\n",
    "\n",
    "theta = kf_r.em(prices[:Total_T])\n",
    "state_means_r, _ = kf_r.filter(prices[:Total_T])\n",
    "state_means_r_smooth, _ = kf_r.smooth(prices[:Total_T])\n",
    "\n",
    "fig = plt.figure(figsize=(14,10))\n",
    "\n",
    "ax = fig.add_subplot(2, 1, 1)\n",
    "#_, axarr = plt.subplots(2, sharex=True)\n",
    "ax.plot(state_means_r[:,0], label=r'KF $\\beta$', lw=3)\n",
    "ax.plot(state_means_r_smooth[:,0], label=r'KF $\\beta$ smoothed', lw=3)\n",
    "ax.plot(D[:Total_T], label=r'True $\\beta$')\n",
    "ax.legend()\n",
    "\n",
    "fig.tight_layout()\n"
   ]
  },
  {
   "cell_type": "markdown",
   "metadata": {},
   "source": [
    "## Regime Switching\n",
    "\n",
    "### Return ~$\\Delta R$"
   ]
  },
  {
   "cell_type": "code",
   "execution_count": null,
   "metadata": {},
   "outputs": [],
   "source": [
    "# Hamilton regime switching\n",
    "\n",
    "y = ret[:Total_T]\n",
    "x = delta_r[:Total_T]\n",
    "mod_hamilton = sm.tsa.MarkovRegression(y , exog=x, k_regimes=2, switching_exog=True)\n",
    "\n",
    "res_hamilton = mod_hamilton.fit()\n",
    "res_hamilton.summary()"
   ]
  },
  {
   "cell_type": "code",
   "execution_count": null,
   "metadata": {},
   "outputs": [],
   "source": [
    "# Regime probability and expected slope coef\n",
    "\n",
    "fig, axes = plt.subplots(nrows=1, ncols=2, figsize=(16,6) )\n",
    "p0 = res_hamilton.filtered_marginal_probabilities[:,0]\n",
    "axes[0].plot(p0)\n",
    "axes[0].set_title('Regime Probability')\n",
    "\n",
    "\n",
    "beta_hat = p0*res_hamilton.params[-3] + (1-p0)*res_hamilton.params[-2]\n",
    "axes[1].plot(beta_hat)\n",
    "axes[1].set_title('Expected Coefficient')\n",
    "#axes[1].set_ylim([0,1.75])\n",
    "\n",
    "fig.tight_layout()\n"
   ]
  },
  {
   "cell_type": "markdown",
   "metadata": {},
   "source": [
    "## MCMC\n"
   ]
  },
  {
   "cell_type": "code",
   "execution_count": null,
   "metadata": {},
   "outputs": [],
   "source": [
    "# MCMC\n",
    "\n",
    "# Set up pymc3 model object with likelihood\n",
    "model = pm.Model()\n",
    "with model:\n",
    "    # alpha and beta coefs\n",
    "    #sigma_a = pm.HalfNormal('sigma_a',sd=.2)\n",
    "    #a_t = GaussianRandomWalk('a_t', tau=sigma_a**-1, shape=T)\n",
    "    sigma_b = pm.HalfNormal('sigma_b',sd=.2)\n",
    "    b_t = GaussianRandomWalk('b_t', tau=sigma_b**-1, shape=Total_T)\n",
    "    # Define likelihood\n",
    "    sigma = pm.HalfNormal('sigma',sd=.2)\n",
    "    #likelihood = pm.Normal('y', mu=a_t + b_t*x, sd=sigma, observed=y)\n",
    "    likelihood = pm.Normal('y', mu=b_t*x, sd=sigma, observed=y)\n",
    "\n",
    "# estimate\n",
    "# Note: can take a while to run\n",
    "with model:\n",
    "    trace = pm.sample(Total_T*2, tune=Total_T)"
   ]
  },
  {
   "cell_type": "code",
   "execution_count": null,
   "metadata": {},
   "outputs": [],
   "source": [
    "beta_hat = trace.get_values('b_t')\n",
    "\n",
    "st = pd.DataFrame((pm.stats.df_summary(trace)['mean']))\n",
    "st = st.ix['b_t__0':'b_t__499']\n",
    "#st.index = range(Total_T)"
   ]
  },
  {
   "cell_type": "code",
   "execution_count": null,
   "metadata": {},
   "outputs": [],
   "source": [
    "fig, ax = plt.subplots(figsize=(15, 8))\n",
    "\n",
    "ax.plot(beta_hat.T, alpha=.0025, color='#30a2da');\n",
    "ax.plot(-np.array(D[:Total_T]), color='k')\n",
    "#ax.plot(st, color='r', lw=5)\n",
    "\n",
    "#ax.set_ylim([0,1.75])\n",
    "\n",
    "ax.set(title='MCMC posterior of coefficient', xlabel='time', ylabel='coefficient');\n",
    "#ax.legend(['True','Mean'])\n",
    "\n",
    "plt.tight_layout()"
   ]
  },
  {
   "cell_type": "code",
   "execution_count": null,
   "metadata": {},
   "outputs": [],
   "source": []
  },
  {
   "cell_type": "code",
   "execution_count": null,
   "metadata": {},
   "outputs": [],
   "source": []
  }
 ],
 "metadata": {
  "kernelspec": {
   "display_name": "Python 3",
   "language": "python",
   "name": "python3"
  },
  "language_info": {
   "codemirror_mode": {
    "name": "ipython",
    "version": 3
   },
   "file_extension": ".py",
   "mimetype": "text/x-python",
   "name": "python",
   "nbconvert_exporter": "python",
   "pygments_lexer": "ipython3",
   "version": "3.6.3"
  }
 },
 "nbformat": 4,
 "nbformat_minor": 2
}
